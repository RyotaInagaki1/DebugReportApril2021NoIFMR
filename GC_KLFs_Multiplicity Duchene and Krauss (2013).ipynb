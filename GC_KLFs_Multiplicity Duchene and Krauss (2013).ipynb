{
 "cells": [
  {
   "cell_type": "markdown",
   "metadata": {},
   "source": [
    "# 'Reproducing' the Third Figure from the Lunch Talk with Duchene and Krauss (2013) Multiplicity (No Additional IFMR)\n",
    "In this test notebook, I will examine the code that should create the juxtaposed KLF's of stars from the Galacitc Center and from their MIST and BPASS cluster counterparts. Final product should be similar to Figure 1 in Lu et al. 2013.\n",
    "\n",
    "Firstly, I grab some code from the  jlu_python/jlu/papers/lu_gc_imf.py directory in the Moving Universe Lab's computers."
   ]
  },
  {
   "cell_type": "code",
   "execution_count": 1,
   "metadata": {},
   "outputs": [],
   "source": [
    "# After spending a bit of time figuring out how pickling files and loading works\n",
    "# I have finally done it.\n",
    "\n",
    "# These come from \n",
    "import pickle\n",
    "import sys\n",
    "from spisea import evolution\n",
    "\n",
    "class dat:\n",
    "    datin = \"Description: Container of Data\"\n",
    "\n",
    "def load_klf_by_radius(rmin=0, rmax=30, mask_for_log=False):\n",
    "    pickleFile = ('%sklf_r_%.1f_%.1f.dat' %\n",
    "                  ('/Users/jlu/work/gc/imf/klf/current/', rmin, rmax))\n",
    "    _in = open(pickleFile, 'rb')\n",
    "    d = dat()\n",
    "    d.Kp = pickle.load(_in,encoding='bytes')\n",
    "    d.N = pickle.load(_in, encoding='bytes')\n",
    "    d.eN = pickle.load(_in, encoding='bytes')\n",
    "\n",
    "    d.N_ext = pickle.load(_in, encoding='bytes')\n",
    "    d.eN_ext = pickle.load(_in, encoding='bytes')\n",
    "\n",
    "    d.N_ext_cmp_sp = pickle.load(_in, encoding='bytes')\n",
    "    d.eN_ext_cmp_sp = pickle.load(_in, encoding='bytes')\n",
    "\n",
    "    d.N_ext_cmp_sp_im = pickle.load(_in, encoding='bytes')\n",
    "    d.eN_ext_cmp_sp_im = pickle.load(_in, encoding='bytes')\n",
    "\n",
    "    d.KLF = pickle.load(_in, encoding='bytes')\n",
    "    d.eKLF = pickle.load(_in, encoding='bytes')\n",
    "\n",
    "    d.KLF_ext = pickle.load(_in,\n",
    "                            encoding='bytes')\n",
    "    d.eKLF_ext = pickle.load(_in,\n",
    "                             encoding='bytes')\n",
    "\n",
    "    d.KLF_ext_cmp_sp = pickle.load(_in, encoding='bytes')\n",
    "    d.eKLF_ext_cmp_sp = pickle.load(_in, encoding='bytes')\n",
    "\n",
    "    d.KLF_ext_cmp_sp_im = pickle.load(_in,\n",
    "                                      encoding='bytes')\n",
    "    d.eKLF_ext_cmp_sp_im = pickle.load(_in,\n",
    "                                       encoding='bytes')\n",
    "\n",
    "    d.N_noWR = pickle.load(_in, encoding='bytes')\n",
    "    d.eN_noWR = pickle.load(_in, encoding='bytes')\n",
    "\n",
    "    d.N_ext_noWR = pickle.load(_in, encoding='bytes')\n",
    "    d.eN_ext_noWR = pickle.load(_in, encoding='bytes')\n",
    "\n",
    "    d.N_ext_cmp_sp_noWR = pickle.load(_in,\n",
    "                                      encoding='bytes')\n",
    "    d.eN_ext_cmp_sp_noWR = pickle.load(_in,\n",
    "                                       encoding='bytes')\n",
    "\n",
    "    d.N_ext_cmp_sp_im_noWR = pickle.load(_in,\n",
    "                                         encoding='bytes')\n",
    "    d.eN_ext_cmp_sp_im_noWR = pickle.load(_in,\n",
    "                                          encoding='bytes')\n",
    "\n",
    "    d.KLF_noWR = pickle.load(_in, encoding='bytes')\n",
    "    d.eKLF_noWR = pickle.load(_in, encoding='bytes')\n",
    "\n",
    "    d.KLF_ext_noWR = pickle.load(_in, encoding='bytes')\n",
    "    d.eKLF_ext_noWR = pickle.load(_in, encoding='bytes')\n",
    "\n",
    "    d.KLF_ext_cmp_sp_noWR = pickle.load(_in,\n",
    "                                        encoding='bytes')\n",
    "    d.eKLF_ext_cmp_sp_noWR = pickle.load(_in,\n",
    "                                         encoding='bytes')\n",
    "\n",
    "    d.KLF_ext_cmp_sp_im_noWR = pickle.load(_in,\n",
    "                                           encoding='bytes')\n",
    "    d.eKLF_ext_cmp_sp_im_noWR = pickle.load(_in,\n",
    "                                            encoding='bytes')\n",
    "\n",
    "    d.comp_spec_ext = pickle.load(_in, encoding='bytes')\n",
    "    d.comp_imag_ext = pickle.load(_in, encoding='bytes')\n",
    "\n",
    "    if mask_for_log:\n",
    "        # Repair for zeros since we are plotting in semi-log-y\n",
    "        d.eN = np.ma.masked_where(d.N <= 0, d.eN)\n",
    "        d.N = np.ma.masked_where(d.N <= 0, d.N)\n",
    "\n",
    "        d.eN_ext = np.ma.masked_where(d.N_ext <= 0, d.eN_ext)\n",
    "        d.N_ext = np.ma.masked_where(d.N_ext <= 0, d.N_ext)\n",
    "\n",
    "        d.eN_ext_cmp_sp = np.ma.masked_where(d.N_ext_cmp_sp <=\n",
    "                                             0, d.eN_ext_cmp_sp)\n",
    "        d.N_ext_cmp_sp = np.ma.masked_where(d.N_ext_cmp_sp <=\n",
    "                                            0, d.N_ext_cmp_sp)\n",
    "\n",
    "        d.eN_ext_cmp_sp_im = np.ma.masked_where(d.N_ext_cmp_sp_im <=\n",
    "                                                0, d.eN_ext_cmp_sp_im)\n",
    "        d.N_ext_cmp_sp_im = np.ma.masked_where(d.N_ext_cmp_sp_im <=\n",
    "                                               0, d.N_ext_cmp_sp_im)\n",
    "        \n",
    "        d.eKLF = np.ma.masked_where(d.KLF <= 0, d.eKLF)\n",
    "        d.KLF = np.ma.masked_where(d.KLF <= 0, d.KLF)\n",
    "        \n",
    "        d.eKLF_ext = np.ma.masked_where(d.KLF_ext <= 0,\n",
    "                                        d.eKLF_ext)\n",
    "        d.KLF_ext = np.ma.masked_where(d.KLF_ext <= 0,\n",
    "                                       d.KLF_ext)\n",
    "        \n",
    "        d.eKLF_ext_cmp_sp = np.ma.masked_where(d.KLF_ext_cmp_sp <= 0, \n",
    "                                               d.eKLF_ext_cmp_sp)\n",
    "        d.KLF_ext_cmp_sp = np.ma.masked_where(d.KLF_ext_cmp_sp <= 0, \n",
    "                                              d.KLF_ext_cmp_sp)\n",
    "        \n",
    "        d.eKLF_ext_cmp_sp_im = (np.ma.\n",
    "                                masked_where(d.KLF_ext_cmp_sp_im <=\n",
    "                                             0, d.eKLF_ext_cmp_sp_im))\n",
    "        d.KLF_ext_cmp_sp_im = (np.ma.\n",
    "                               masked_where(d.KLF_ext_cmp_sp_im <=\n",
    "                                            0, d.KLF_ext_cmp_sp_im))\n",
    "\n",
    "\n",
    "    _in.close()\n",
    "\n",
    "    return d"
   ]
  },
  {
   "cell_type": "markdown",
   "metadata": {},
   "source": [
    "The following line loads data from /Users/jlu/work/gc/imf/klf/current/klf_r_0.0_30.0.dat. Recall I use the noWR option as the corresponding figure "
   ]
  },
  {
   "cell_type": "code",
   "execution_count": 2,
   "metadata": {},
   "outputs": [],
   "source": [
    "import numpy as np\n",
    "result = load_klf_by_radius(mask_for_log=True)\n",
    "magBin = result.Kp[1] - result.Kp[0]\n",
    "# Note that the < 16 comes from the original code!\n",
    "idx = np.where(result.Kp < 16)[0]"
   ]
  },
  {
   "cell_type": "markdown",
   "metadata": {},
   "source": [
    "Now, I create the BPASS isochrone for that specific age. $10^{6.78}$  years of age (around 6 million years). From that isochrone, I will create a cluster using an IMF of $\\alpha = 1.7$."
   ]
  },
  {
   "cell_type": "code",
   "execution_count": null,
   "metadata": {},
   "outputs": [
    {
     "name": "stderr",
     "output_type": "stream",
     "text": [
      "/opt/anaconda3/envs/astroconda/lib/python3.7/site-packages/pysynphot/locations.py:345: UserWarning: Extinction files not found in /g/lu/models/cdbs/extinction\n",
      "  warnings.warn('Extinction files not found in %s' % (extdir, ))\n",
      "/opt/anaconda3/envs/astroconda/lib/python3.7/site-packages/pysynphot/refs.py:125: UserWarning: No thermal tables found, no thermal calculations can be performed. No files found for /g/lu/models/cdbs/mtab/*_tmt.fits\n",
      "  'no thermal calculations can be performed. ' + str(e))\n",
      "/opt/anaconda3/envs/astroconda/lib/python3.7/site-packages/astropy/units/quantity.py:479: RuntimeWarning: invalid value encountered in true_divide\n",
      "  result = super().__array_ufunc__(function, method, *arrays, **kwargs)\n",
      "/u/ryotainagaki/Desktop/PyPopStar/spisea/evolution.py:1792: RuntimeWarning: overflow encountered in power\n",
      "  (1 / cs.au) * un.m)\n",
      "/opt/anaconda3/envs/astroconda/lib/python3.7/site-packages/astropy/units/quantity.py:479: RuntimeWarning: divide by zero encountered in true_divide\n",
      "  result = super().__array_ufunc__(function, method, *arrays, **kwargs)\n",
      "/opt/anaconda3/envs/astroconda/lib/python3.7/site-packages/astropy/units/quantity.py:479: RuntimeWarning: invalid value encountered in true_divide\n",
      "  result = super().__array_ufunc__(function, method, *arrays, **kwargs)\n"
     ]
    },
    {
     "name": "stdout",
     "output_type": "stream",
     "text": [
      "Changing to logg=3.50 for T= 26935 logg=3.29\n",
      "Changing to T= 50000 for T= 50518 logg=3.84\n",
      "Changing to logg=5.00 for T= 50518 logg=3.84\n",
      "Changing to T= 50000 for T=168628 logg=5.83\n",
      "Changing to logg=5.00 for T=168628 logg=5.83\n",
      "Changing to logg=3.50 for T= 27821 logg=3.39\n",
      "Changing to T= 50000 for T=166073 logg=5.80\n",
      "Changing to logg=5.00 for T=166073 logg=5.80\n",
      "Changing to T= 50000 for T=162596 logg=5.78\n",
      "Changing to logg=5.00 for T=162596 logg=5.78\n",
      "Changing to logg=3.00 for T= 23226 logg=2.95\n",
      "Changing to T= 50000 for T=169071 logg=5.83\n",
      "Changing to logg=5.00 for T=169071 logg=5.83\n",
      "Changing to T= 50000 for T=166855 logg=5.80\n",
      "Changing to logg=5.00 for T=166855 logg=5.80\n",
      "Changing to logg=3.50 for T= 26250 logg=3.24\n",
      "Changing to T= 50000 for T=143840 logg=5.56\n",
      "Changing to logg=5.00 for T=143840 logg=5.56\n",
      "Changing to T= 50000 for T=113794 logg=5.39\n",
      "Changing to logg=5.00 for T=113794 logg=5.39\n",
      "Changing to logg=3.50 for T= 27428 logg=3.36\n",
      "Changing to T= 50000 for T=171676 logg=5.85\n",
      "Changing to logg=5.00 for T=171676 logg=5.85\n",
      "Changing to logg=3.50 for T= 27428 logg=3.36\n",
      "Changing to T= 50000 for T=113078 logg=5.38\n",
      "Changing to logg=5.00 for T=113078 logg=5.38\n",
      "Changing to T= 50000 for T=113138 logg=5.07\n",
      "Changing to logg=5.00 for T=113138 logg=5.07\n",
      "Changing to logg=5.00 for T= 49363 logg=3.80\n",
      "Changing to T= 50000 for T=114427 logg=5.39\n",
      "Changing to logg=5.00 for T=114427 logg=5.39\n",
      "Changing to T= 50000 for T=114204 logg=5.39\n",
      "Changing to logg=5.00 for T=114204 logg=5.39\n",
      "Changing to logg=3.50 for T= 28471 logg=3.47\n",
      "Changing to logg=3.50 for T= 28471 logg=3.47\n",
      "Changing to logg=3.50 for T= 27428 logg=3.36\n",
      "Changing to T= 50000 for T=112980 logg=5.29\n",
      "Changing to logg=5.00 for T=112980 logg=5.29\n",
      "Changing to logg=3.50 for T= 27428 logg=3.36\n",
      "Changing to logg=4.00 for T= 38122 logg=3.86\n",
      "Changing to T= 50000 for T=115414 logg=5.37\n",
      "Changing to logg=5.00 for T=115414 logg=5.37\n",
      "Changing to logg=3.50 for T= 26250 logg=3.24\n",
      "Changing to logg=3.50 for T= 26250 logg=3.24\n",
      "Changing to T= 50000 for T=143698 logg=5.56\n",
      "Changing to logg=5.00 for T=143698 logg=5.56\n",
      "Changing to logg=3.50 for T= 28471 logg=3.47\n",
      "Changing to T= 50000 for T=141579 logg=5.54\n",
      "Changing to logg=5.00 for T=141579 logg=5.54\n",
      "Changing to T= 50000 for T=170243 logg=5.83\n",
      "Changing to logg=5.00 for T=170243 logg=5.83\n",
      "Changing to logg=3.50 for T= 26250 logg=3.24\n",
      "Changing to logg=3.50 for T= 27428 logg=3.36\n",
      "Changing to T= 50000 for T=142564 logg=5.55\n",
      "Changing to logg=5.00 for T=142564 logg=5.55\n",
      "Changing to logg=3.50 for T= 28471 logg=3.47\n",
      "Changing to logg=3.50 for T= 27428 logg=3.36\n",
      "Changing to T= 50000 for T=113810 logg=5.38\n",
      "Changing to logg=5.00 for T=113810 logg=5.38\n",
      "Changing to T= 50000 for T=171676 logg=5.85\n",
      "Changing to logg=5.00 for T=171676 logg=5.85\n",
      "Changing to T= 50000 for T=171676 logg=5.85\n",
      "Changing to logg=5.00 for T=171676 logg=5.85\n",
      "Changing to logg=5.00 for T= 49363 logg=3.80\n",
      "Changing to logg=3.50 for T= 26250 logg=3.24\n",
      "Changing to logg=3.50 for T= 28471 logg=3.47\n",
      "Changing to T= 50000 for T=171676 logg=5.85\n",
      "Changing to logg=5.00 for T=171676 logg=5.85\n",
      "Changing to logg=3.50 for T= 28471 logg=3.47\n",
      "Changing to logg=3.50 for T= 28471 logg=3.47\n",
      "Changing to logg=3.50 for T= 27428 logg=3.36\n",
      "Changing to logg=3.50 for T= 28471 logg=3.47\n",
      "Changing to T= 50000 for T=139213 logg=5.51\n",
      "Changing to logg=5.00 for T=139213 logg=5.51\n",
      "Changing to logg=3.50 for T= 27428 logg=3.36\n",
      "Changing to T= 50000 for T=114283 logg=5.38\n",
      "Changing to logg=5.00 for T=114283 logg=5.38\n",
      "Changing to T= 50000 for T=170514 logg=5.85\n",
      "Changing to logg=5.00 for T=170514 logg=5.85\n",
      "Changing to logg=3.50 for T= 27428 logg=3.36\n",
      "Changing to logg=3.50 for T= 28471 logg=3.47\n",
      "Changing to T= 50000 for T=114198 logg=5.39\n",
      "Changing to logg=5.00 for T=114198 logg=5.39\n",
      "Changing to logg=3.50 for T= 28471 logg=3.47\n",
      "Changing to T= 50000 for T=139357 logg=5.51\n",
      "Changing to logg=5.00 for T=139357 logg=5.51\n",
      "Changing to T= 50000 for T=171676 logg=5.85\n",
      "Changing to logg=5.00 for T=171676 logg=5.85\n",
      "Changing to T= 50000 for T=173488 logg=5.87\n",
      "Changing to logg=5.00 for T=173488 logg=5.87\n",
      "Changing to T= 50000 for T=143364 logg=5.56\n",
      "Changing to logg=5.00 for T=143364 logg=5.56\n",
      "Changing to T= 50000 for T=113729 logg=5.40\n",
      "Changing to logg=5.00 for T=113729 logg=5.40\n",
      "Changing to logg=3.50 for T= 27428 logg=3.36\n",
      "Changing to logg=3.50 for T= 28471 logg=3.47\n",
      "Changing to T= 50000 for T=171676 logg=5.85\n",
      "Changing to logg=5.00 for T=171676 logg=5.85\n",
      "Changing to logg=3.50 for T= 27428 logg=3.36\n",
      "Changing to logg=3.50 for T= 27428 logg=3.36\n",
      "Changing to logg=3.50 for T= 26250 logg=3.24\n",
      "Changing to logg=3.50 for T= 26382 logg=3.26\n",
      "Changing to logg=3.50 for T= 26250 logg=3.24\n",
      "Changing to T= 50000 for T=171933 logg=5.86\n",
      "Changing to logg=5.00 for T=171933 logg=5.86\n",
      "Changing to logg=3.50 for T= 27428 logg=3.36\n",
      "Changing to T= 50000 for T=132850 logg=5.43\n",
      "Changing to logg=5.00 for T=132850 logg=5.43\n",
      "Changing to T= 50000 for T=172910 logg=5.87\n",
      "Changing to logg=5.00 for T=172910 logg=5.87\n",
      "Changing to T= 50000 for T=144521 logg=5.57\n",
      "Changing to logg=5.00 for T=144521 logg=5.57\n",
      "Changing to logg=4.00 for T= 34533 logg=3.99\n",
      "Changing to logg=3.50 for T= 27699 logg=3.38\n",
      "Changing to logg=3.50 for T= 27428 logg=3.36\n",
      "Changing to T= 50000 for T=139566 logg=5.51\n",
      "Changing to logg=5.00 for T=139566 logg=5.51\n",
      "Changing to T= 50000 for T=171676 logg=5.85\n",
      "Changing to logg=5.00 for T=171676 logg=5.85\n",
      "Changing to T= 50000 for T=138392 logg=5.50\n",
      "Changing to logg=5.00 for T=138392 logg=5.50\n",
      "Changing to T= 50000 for T=113839 logg=5.39\n",
      "Changing to logg=5.00 for T=113839 logg=5.39\n",
      "Changing to logg=4.00 for T= 31586 logg=3.71\n",
      "Changing to logg=3.50 for T= 27428 logg=3.36\n",
      "Changing to T= 50000 for T=113271 logg=5.38\n",
      "Changing to logg=5.00 for T=113271 logg=5.38\n",
      "Changing to logg=3.50 for T= 28471 logg=3.47\n",
      "Changing to T= 50000 for T=110311 logg=5.42\n",
      "Changing to logg=5.00 for T=110311 logg=5.42\n",
      "Changing to logg=3.50 for T= 26250 logg=3.24\n",
      "Changing to T= 50000 for T=132096 logg=5.42\n",
      "Changing to logg=5.00 for T=132096 logg=5.42\n",
      "Changing to logg=3.50 for T= 28471 logg=3.47\n",
      "Changing to T= 50000 for T=171676 logg=5.85\n",
      "Changing to logg=5.00 for T=171676 logg=5.85\n",
      "Changing to logg=3.50 for T= 27428 logg=3.36\n",
      "Changing to logg=3.50 for T= 27428 logg=3.36\n",
      "Changing to logg=3.50 for T= 28534 logg=3.45\n",
      "Changing to T= 50000 for T=171676 logg=5.85\n",
      "Changing to logg=5.00 for T=171676 logg=5.85\n",
      "Changing to T= 50000 for T=113902 logg=5.38\n",
      "Changing to logg=5.00 for T=113902 logg=5.38\n",
      "Changing to logg=3.50 for T= 26250 logg=3.24\n",
      "Changing to T= 50000 for T=113076 logg=5.39\n",
      "Changing to logg=5.00 for T=113076 logg=5.39\n",
      "Changing to T= 50000 for T=141394 logg=5.53\n",
      "Changing to logg=5.00 for T=141394 logg=5.53\n",
      "Changing to logg=3.50 for T= 26250 logg=3.24\n",
      "Changing to logg=3.50 for T= 26250 logg=3.24\n",
      "Changing to T= 50000 for T=113941 logg=5.39\n",
      "Changing to logg=5.00 for T=113941 logg=5.39\n",
      "Changing to T= 50000 for T=137727 logg=5.51\n",
      "Changing to logg=5.00 for T=137727 logg=5.51\n",
      "Changing to logg=3.50 for T= 26250 logg=3.24\n",
      "Changing to T= 50000 for T=142978 logg=5.55\n",
      "Changing to logg=5.00 for T=142978 logg=5.55\n",
      "Changing to logg=3.50 for T= 26250 logg=3.24\n",
      "Changing to logg=5.00 for T= 49363 logg=3.80\n",
      "Changing to T= 50000 for T=113441 logg=5.38\n",
      "Changing to logg=5.00 for T=113441 logg=5.38\n",
      "Changing to T= 50000 for T=133076 logg=5.44\n",
      "Changing to logg=5.00 for T=133076 logg=5.44\n",
      "Changing to logg=3.50 for T= 27428 logg=3.36\n",
      "Changing to logg=3.50 for T= 26250 logg=3.24\n",
      "Changing to logg=3.50 for T= 26250 logg=3.24\n",
      "Changing to logg=3.50 for T= 27547 logg=3.37\n",
      "Changing to logg=4.00 for T= 38775 logg=3.87\n",
      "Changing to T= 50000 for T=114233 logg=5.39\n",
      "Changing to logg=5.00 for T=114233 logg=5.39\n",
      "Changing to logg=4.00 for T= 31715 logg=3.91\n",
      "Changing to logg=3.00 for T= 23031 logg=2.72\n",
      "Changing to logg=3.50 for T= 28760 logg=3.16\n",
      "Changing to T= 50000 for T=115321 logg=5.37\n",
      "Changing to logg=5.00 for T=115321 logg=5.37\n",
      "Changing to logg=3.50 for T= 26250 logg=3.24\n",
      "Changing to logg=3.50 for T= 26250 logg=3.24\n",
      "Changing to T= 50000 for T= 57298 logg=3.98\n",
      "Changing to logg=5.00 for T= 57298 logg=3.98\n",
      "Changing to T= 50000 for T=139489 logg=5.51\n",
      "Changing to logg=5.00 for T=139489 logg=5.51\n",
      "Changing to logg=3.50 for T= 28471 logg=3.47\n",
      "Changing to logg=3.50 for T= 27428 logg=3.36\n",
      "Changing to logg=3.50 for T= 26250 logg=3.24\n",
      "Changing to logg=3.50 for T= 28471 logg=3.47\n",
      "Changing to T= 50000 for T=113941 logg=5.39\n",
      "Changing to logg=5.00 for T=113941 logg=5.39\n",
      "Changing to T= 50000 for T=142249 logg=5.54\n",
      "Changing to logg=5.00 for T=142249 logg=5.54\n",
      "Changing to logg=3.50 for T= 27428 logg=3.36\n",
      "Changing to logg=3.50 for T= 28471 logg=3.47\n",
      "Changing to logg=4.00 for T= 34990 logg=3.71\n",
      "Changing to T= 50000 for T=138685 logg=5.50\n",
      "Changing to logg=5.00 for T=138685 logg=5.50\n",
      "Changing to logg=3.50 for T= 28471 logg=3.47\n",
      "Changing to logg=3.50 for T= 26250 logg=3.24\n",
      "Changing to logg=3.50 for T= 26250 logg=3.24\n",
      "Changing to logg=3.50 for T= 26250 logg=3.24\n",
      "Changing to logg=3.50 for T= 28471 logg=3.47\n",
      "Changing to T= 50000 for T=171676 logg=5.85\n",
      "Changing to logg=5.00 for T=171676 logg=5.85\n",
      "Changing to T= 50000 for T=143407 logg=5.56\n",
      "Changing to logg=5.00 for T=143407 logg=5.56\n",
      "Changing to T= 50000 for T=143632 logg=5.56\n",
      "Changing to logg=5.00 for T=143632 logg=5.56\n",
      "Changing to logg=3.50 for T= 26250 logg=3.24\n",
      "Changing to T= 50000 for T=143863 logg=5.56\n",
      "Changing to logg=5.00 for T=143863 logg=5.56\n",
      "Changing to T= 50000 for T=142485 logg=5.55\n",
      "Changing to logg=5.00 for T=142485 logg=5.55\n",
      "Changing to T= 50000 for T=164608 logg=5.79\n",
      "Changing to logg=5.00 for T=164608 logg=5.79\n",
      "Changing to T= 50000 for T=142787 logg=5.55\n",
      "Changing to logg=5.00 for T=142787 logg=5.55\n",
      "Changing to T= 50000 for T=172604 logg=5.86\n",
      "Changing to logg=5.00 for T=172604 logg=5.86\n"
     ]
    }
   ],
   "source": [
    "from spisea import synthetic\n",
    "BPASS_iso = synthetic.Isochrone_Binary(6.78, 2.7,\n",
    "                                       8000, 0.0, filters=['nirc2,Kp'])"
   ]
  },
  {
   "cell_type": "code",
   "execution_count": null,
   "metadata": {},
   "outputs": [],
   "source": [
    "np.unique(BPASS_iso.singles['phase'])"
   ]
  },
  {
   "cell_type": "code",
   "execution_count": null,
   "metadata": {},
   "outputs": [],
   "source": [
    "from spisea import imf, ifmr\n",
    "import numpy as np\n",
    "# If we want to use control group, let's use multiplicity = None.\n",
    "custom_IMF = imf.imf.IMF_broken_powerlaw(np.array([1, 150]),\n",
    "                                         np.array([-1.7]),\n",
    "                                         multiplicity=\n",
    "                                         (imf.multiplicity.\n",
    "                                          MultiplicityResolvedDK()))\n",
    "import time\n",
    "t1 = time.time()\n",
    "BPASS_Cluster = synthetic.Cluster_w_Binaries(BPASS_iso, custom_IMF,\n",
    "                                             1000000,\n",
    "                                             ifmr=None)\n",
    "t2 = time.time()\n",
    "t_time = t2 - t1"
   ]
  },
  {
   "cell_type": "code",
   "execution_count": null,
   "metadata": {},
   "outputs": [],
   "source": [
    "len(BPASS_Cluster.companions)"
   ]
  },
  {
   "cell_type": "markdown",
   "metadata": {},
   "source": [
    "Then, I create the scaling factor we use to turn number of stars in a magnitude bin\n",
    "to area (arcsecond^2) density of stars in a magnitude bin."
   ]
  },
  {
   "cell_type": "code",
   "execution_count": null,
   "metadata": {},
   "outputs": [],
   "source": [
    "area = 165 # arcsec^2\n",
    "# Think of how many stars per area would there be in a similar cluster\n",
    "# but with lower mass. We use scaling.\n",
    "scaleFactorBPS = ((17000 /\n",
    "                   BPASS_Cluster.star_systems['systemMass'].sum()) /\n",
    "                  area)\n",
    "print(scaleFactorBPS)"
   ]
  },
  {
   "cell_type": "code",
   "execution_count": null,
   "metadata": {},
   "outputs": [],
   "source": [
    "BPASS_iso.primaries['m_nirc2_Kp']"
   ]
  },
  {
   "cell_type": "markdown",
   "metadata": {},
   "source": [
    "In the next cell, I make sure that I am NOT including WR stars in my plots and that I am not including stars with magnitudes greater than cutoff (K' = 15.5)\n",
    "here, I want to make an array like object of individual BPASS stars' magnitudes (not necessarily just of star systems)"
   ]
  },
  {
   "cell_type": "code",
   "execution_count": null,
   "metadata": {},
   "outputs": [],
   "source": [
    "totl_BPASS = (BPASS_Cluster.star_systems['m_nirc2_Kp']\n",
    "               [np.where((~BPASS_Cluster.star_systems['isWR']))[0]])"
   ]
  },
  {
   "cell_type": "markdown",
   "metadata": {},
   "source": [
    "Below, I produce my first plot that demonstrates the problem with BPASS's IMF. I also set up bins and BPASS weights, which I will use in the next figure."
   ]
  },
  {
   "cell_type": "code",
   "execution_count": null,
   "metadata": {},
   "outputs": [],
   "source": [
    "import matplotlib.pyplot as py\n",
    "# Primary star fluxes\n",
    "klf_mag_bins = np.arange(9.0, 17, 1.0)\n",
    "binsKp = klf_mag_bins\n",
    "binEdges = binsKp[0:-1] + (binsKp[1:] - binsKp[0:-1]) / 2.0\n",
    "\n",
    "weightsBPS = np.array([1.0 for x in totl_BPASS])\n",
    "weightsBPS *= scaleFactorBPS\n",
    "(n1, b1, p1) = py.hist(totl_BPASS, bins=binEdges, weights=weightsBPS,\n",
    "                       histtype='step', color='green',\n",
    "                       label='BPASS Stars', align='mid',\n",
    "                       linewidth=1.5)\n",
    "py.errorbar(result.Kp[idx],\n",
    "            result.KLF_ext_cmp_sp_im_noWR[idx],\n",
    "            fmt='ro-', xerr=magBin/2.0, linewidth=2)\n",
    "py.errorbar(result.Kp[idx], result.KLF_ext_cmp_sp_im_noWR[idx],\n",
    "            fmt='ro-', yerr=result.eKLF_ext_cmp_sp_im_noWR[idx],\n",
    "            linewidth=2,\n",
    "            label='Observed')\n",
    "py.legend(loc='upper left', numpoints=1)\n",
    "py.xlabel('Kp magnitude')\n",
    "py.ylabel('Stars / (arcsec^2 mag)')\n",
    "py.title('KLF of clusters at Age = %d Myr' % (10**(6.78 - 6)),\n",
    "         fontsize=14)"
   ]
  },
  {
   "cell_type": "markdown",
   "metadata": {},
   "source": [
    "**Now I create the MIST v1 cluster and then make the final figure of the talk.**"
   ]
  },
  {
   "cell_type": "code",
   "execution_count": null,
   "metadata": {},
   "outputs": [],
   "source": [
    "from spisea import evolution\n",
    "MIST_iso = synthetic.IsochronePhot(6.78, 2.7, 8000, 0.0,\n",
    "                                   min_mass = 1.0,\n",
    "                                   max_mass = 150,recomp=True,\n",
    "                                   filters=['nirc2,Kp'])\n",
    "MIST_Cluster = synthetic.ResolvedCluster(MIST_iso, custom_IMF,\n",
    "                                         1000000,\n",
    "                                         ifmr=None)\n",
    "merged_iso = synthetic.IsochronePhot(6.78, 2.7, 8000, 0.0,\n",
    "                                     evo_model=evolution.MergedBaraffePisaEkstromParsec(),\n",
    "                                     min_mass = 1.0,\n",
    "                                     max_mass = 150, recomp=True,\n",
    "                                     filters=['nirc2,Kp'])\n",
    "merged_cluster = synthetic.ResolvedCluster(merged_iso, custom_IMF,\n",
    "                                           1000000,\n",
    "                                           ifmr=None)"
   ]
  },
  {
   "cell_type": "markdown",
   "metadata": {},
   "source": [
    "In the next cell, I make sure that I am NOT including WR stars in my plots and that I am not including stars with magnitudes greater than cutoff (K' = 15.5)\n",
    "here, I want to make an array like object of individual MIST stars' magnitudes (not necessarily just of star systems)"
   ]
  },
  {
   "cell_type": "code",
   "execution_count": null,
   "metadata": {},
   "outputs": [],
   "source": [
    "totl_mist =(MIST_Cluster.star_systems['m_nirc2_Kp']\n",
    "            [np.where((MIST_Cluster.star_systems['isWR'] == 0))[0]])\n",
    "totl_merged = (merged_cluster.star_systems['m_nirc2_Kp']\n",
    "              [np.where((merged_cluster.star_systems['isWR'] == 0))[0]])\n",
    "# Now find the magintudes of just the primary star"
   ]
  },
  {
   "cell_type": "code",
   "execution_count": null,
   "metadata": {},
   "outputs": [],
   "source": [
    "import matplotlib.pyplot as py\n",
    "\n",
    "area = 165  # arcsec^2\n",
    "# Setting up framework so that I can scale the number of stars in mass bin\n",
    "# into density: number of stars per square arcsecond.\n",
    "\n",
    "mist_scale = ((17000/ MIST_Cluster.star_systems['systemMass'].sum()) /\n",
    "              area)\n",
    "merged_scale = ((17000/ merged_cluster.star_systems['systemMass'].sum()) /\n",
    "                area)\n",
    "weights_MST = np.array([1.0 for x in totl_mist])\n",
    "weights_MST *= mist_scale\n",
    "weights_merged= np.array([1.0 for x in totl_merged])\n",
    "weights_merged *= merged_scale\n",
    "# Binning the K' magnitudes into their respective bins\n",
    "\n",
    "py.hist(totl_mist, bins=binEdges, histtype='step',\n",
    "        weights=weights_MST, color='green', label='MISTv.1 Model',\n",
    "        align='mid', linewidth=1.5)\n",
    "py.hist(totl_BPASS, bins=binEdges, histtype='step',\n",
    "        weights=weightsBPS, color='blue',\n",
    "        label='(BPASS Model KLF)',\n",
    "        align='mid', linewidth=1.5)\n",
    "py.hist(totl_merged, bins=binEdges, histtype='step',\n",
    "        weights=weights_merged, color='orange',\n",
    "        label='Merged Model KLF')\n",
    "py.errorbar(result.Kp[idx], result.KLF_ext_cmp_sp_im_noWR[idx],\n",
    "            fmt='ro-', xerr=magBin/2.0, capsize=0, linewidth=2)\n",
    "py.errorbar(result.Kp[idx],result.KLF_ext_cmp_sp_im_noWR[idx],\n",
    "            fmt='ro-', yerr=result.eKLF_ext_cmp_sp_im_noWR[idx],\n",
    "            linewidth=2,\n",
    "       label='Observed')\n",
    "py.xlim(8.5, 15.5)\n",
    "py.xlabel('Kp magnitude')\n",
    "py.ylabel(\"stars / (arcsecond^2 mag)\")\n",
    "py.title(\"KLF's at Age = %d Myr (Using Duchene and Krauss Multiplicity)\" % (10**(6.78 - 6)),\n",
    "         fontsize=13)\n",
    "py.legend(loc='upper left', numpoints=1)\n",
    "py.savefig(\"ImprovedKLF.png\")"
   ]
  },
  {
   "cell_type": "code",
   "execution_count": null,
   "metadata": {},
   "outputs": [],
   "source": [
    "mist_scale"
   ]
  },
  {
   "cell_type": "markdown",
   "metadata": {},
   "source": [
    "Firstly, I examine the intended total initial mass of primary stars (of multi-star systems)Check the BPASS cluster mass. As we will see, it is lower than it should be. (**Note that all masses from now on will be in units of solar masses**)"
   ]
  },
  {
   "cell_type": "code",
   "execution_count": null,
   "metadata": {},
   "outputs": [],
   "source": [
    "BPASS_Cluster.intended_primaries_mass"
   ]
  },
  {
   "cell_type": "markdown",
   "metadata": {},
   "source": [
    "Here is what it actually turns out to be:"
   ]
  },
  {
   "cell_type": "code",
   "execution_count": null,
   "metadata": {},
   "outputs": [],
   "source": [
    "BPASS_Cluster.star_systems['mass'][np.where(BPASS_Cluster.star_systems['isMultiple'])].sum()"
   ]
  },
  {
   "cell_type": "markdown",
   "metadata": {},
   "source": [
    "Then, I examine the intended total mass of companion stars (of multi-star systems)"
   ]
  },
  {
   "cell_type": "code",
   "execution_count": null,
   "metadata": {},
   "outputs": [],
   "source": [
    "BPASS_Cluster.intended_companions_mass"
   ]
  },
  {
   "cell_type": "markdown",
   "metadata": {},
   "source": [
    "Here is what it actually turns out to be:"
   ]
  },
  {
   "cell_type": "code",
   "execution_count": null,
   "metadata": {},
   "outputs": [],
   "source": [
    "BPASS_Cluster.companions['mass'].sum()"
   ]
  },
  {
   "cell_type": "markdown",
   "metadata": {},
   "source": [
    "Finally, I examine the intended total mass of the cluster's single stars (of multi-star systems)"
   ]
  },
  {
   "cell_type": "code",
   "execution_count": null,
   "metadata": {},
   "outputs": [],
   "source": [
    "BPASS_Cluster.intended_singles_mass"
   ]
  },
  {
   "cell_type": "markdown",
   "metadata": {},
   "source": [
    "Here's what it actually turns out to be."
   ]
  },
  {
   "cell_type": "code",
   "execution_count": null,
   "metadata": {},
   "outputs": [],
   "source": [
    "BPASS_Cluster.star_systems['mass'][np.where(~ BPASS_Cluster.star_systems['isMultiple'])].sum()"
   ]
  }
 ],
 "metadata": {
  "kernelspec": {
   "display_name": "astroconda",
   "language": "python",
   "name": "astroconda"
  },
  "language_info": {
   "codemirror_mode": {
    "name": "ipython",
    "version": 3
   },
   "file_extension": ".py",
   "mimetype": "text/x-python",
   "name": "python",
   "nbconvert_exporter": "python",
   "pygments_lexer": "ipython3",
   "version": "3.7.10"
  }
 },
 "nbformat": 4,
 "nbformat_minor": 4
}

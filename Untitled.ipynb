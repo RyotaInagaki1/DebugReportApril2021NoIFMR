{
 "cells": [
  {
   "cell_type": "markdown",
   "id": "9da3d3a0-3f16-4506-b9a3-814598a08b13",
   "metadata": {},
   "source": [
    "Trying out interpolating over 3D (primary mass - secondary mass - separation) space.\n",
    "How much time does creating the interpolator take?"
   ]
  },
  {
   "cell_type": "code",
   "execution_count": null,
   "id": "4753d930-ea5d-4bd6-84ed-467876c67728",
   "metadata": {},
   "outputs": [],
   "source": [
    "import spisea\n",
    "from spisea import synthetic\n",
    "import time\n",
    "\n",
    "iso_clus = "
   ]
  }
 ],
 "metadata": {
  "kernelspec": {
   "display_name": "astroconda",
   "language": "python",
   "name": "astroconda"
  },
  "language_info": {
   "codemirror_mode": {
    "name": "ipython",
    "version": 3
   },
   "file_extension": ".py",
   "mimetype": "text/x-python",
   "name": "python",
   "nbconvert_exporter": "python",
   "pygments_lexer": "ipython3",
   "version": "3.7.10"
  }
 },
 "nbformat": 4,
 "nbformat_minor": 5
}

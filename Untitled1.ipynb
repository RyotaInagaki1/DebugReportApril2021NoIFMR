{
 "cells": [
  {
   "cell_type": "code",
   "execution_count": 3,
   "id": "introductory-cooperative",
   "metadata": {},
   "outputs": [],
   "source": [
    "import loading_jlu_file"
   ]
  },
  {
   "cell_type": "code",
   "execution_count": 6,
   "id": "reliable-wallpaper",
   "metadata": {},
   "outputs": [],
   "source": [
    "from spisea.imf import imf, multiplicity"
   ]
  },
  {
   "cell_type": "code",
   "execution_count": null,
   "id": "adverse-trust",
   "metadata": {},
   "outputs": [],
   "source": []
  }
 ],
 "metadata": {
  "kernelspec": {
   "display_name": "astroconda",
   "language": "python",
   "name": "astroconda"
  },
  "language_info": {
   "codemirror_mode": {
    "name": "ipython",
    "version": 3
   },
   "file_extension": ".py",
   "mimetype": "text/x-python",
   "name": "python",
   "nbconvert_exporter": "python",
   "pygments_lexer": "ipython3",
   "version": "3.7.10"
  }
 },
 "nbformat": 4,
 "nbformat_minor": 5
}
